{
 "cells": [
  {
   "cell_type": "markdown",
   "metadata": {},
   "source": [
    "## Manual labeling for \n",
    "\n",
    "* Lipids 6 ml 055\n",
    "* Lipids 30 ml 067\n",
    "* IgG 1 ml 012\n",
    "* IgG 20 ml 033\n",
    "* IgG 30 ml 02"
   ]
  },
  {
   "cell_type": "code",
   "execution_count": null,
   "metadata": {},
   "outputs": [],
   "source": [
    "from src.filepath_util import read_image, read_masks_for_image\n",
    "import matplotlib.pyplot as plt\n",
    "import numpy as np\n",
    "import os\n",
    "import pandas as pd\n",
    "\n",
    "%matplotlib inline"
   ]
  },
  {
   "cell_type": "code",
   "execution_count": null,
   "metadata": {},
   "outputs": [],
   "source": [
    "image_filepaths = [\n",
    "  'dataset/1000/Lipids 6ml 1000x_055.tif',\n",
    "  # 'dataset/1000/Lipids 30ml 1000x_067.tif',\n",
    "  # 'dataset/1000/IgG 1 ml 1000x_012.tif',\n",
    "  # 'dataset/1000/IgG 20 ml 1000x_033.tif',\n",
    "  # 'dataset/1000/RBCs_IgG 30 ml 1000x_2.tif',\n",
    "]"
   ]
  },
  {
   "cell_type": "code",
   "execution_count": null,
   "metadata": {},
   "outputs": [],
   "source": [
    "\n",
    "\n",
    "from consts import LABEL_UNLABELED, LABEL_WRONG, MASK_ID_COLUMN, Y_COLUMN\n",
    "\n",
    "\n",
    "LABELS = {\n",
    "    LABEL_UNLABELED: {\"color\": np.array([204, 0, 255])},\n",
    "    LABEL_WRONG: {\"color\": np.array([203, 255, 0])},\n",
    "    \"red blood cell\": {\"color\": np.array([255, 0, 0])},\n",
    "    \"spheroid cell\": {\"color\": np.array([0, 255, 102])},\n",
    "    \"echinocyte\": {\"color\": np.array([0, 101, 255])},\n",
    "}\n",
    "\n",
    "def create_color_by_mask_id(labels_df):\n",
    "    color_by_mask_id = dict()\n",
    "    for _, row in labels_df.iterrows():\n",
    "        mask_id, label = row[MASK_ID_COLUMN], row[Y_COLUMN]\n",
    "        if label in [LABEL_UNLABELED, LABEL_WRONG]:\n",
    "            continue\n",
    "        color_by_mask_id[mask_id] = LABELS[label][\"color\"]\n",
    "\n",
    "    return color_by_mask_id\n"
   ]
  },
  {
   "cell_type": "code",
   "execution_count": null,
   "metadata": {},
   "outputs": [],
   "source": [
    "\n",
    "def read_manual_labels(image_filepath):\n",
    "    labels_filepath = os.path.splitext(image_filepath)[0] + '_manual_labels.csv'\n",
    "    labels = pd.read_csv(labels_filepath, header=0, index_col=0)\n",
    "    return labels"
   ]
  },
  {
   "cell_type": "code",
   "execution_count": null,
   "metadata": {},
   "outputs": [],
   "source": [
    "\n",
    "from src.draw_util import MasksColorOptions, get_masks_img\n",
    "from src.filepath_util import read_masks_features\n",
    "\n",
    "\n",
    "image_filepath = image_filepaths[0]\n",
    "\n",
    "image = read_image(image_filepath)\n",
    "masks = read_masks_for_image(image_filepath)\n",
    "labels_df = read_masks_features(image_filepath)\n",
    "\n",
    "color_by_mask_id = create_color_by_mask_id(labels_df)\n",
    "image = get_masks_img(masks, image, MasksColorOptions.BY_LABEL, color_by_mask_id)\n",
    "\n",
    "plt.imshow(image)"
   ]
  },
  {
   "cell_type": "code",
   "execution_count": null,
   "metadata": {},
   "outputs": [],
   "source": [
    "manual_labels_df = read_manual_labels(image_filepath)\n",
    "manual_labels_df.head(20)"
   ]
  },
  {
   "cell_type": "code",
   "execution_count": null,
   "metadata": {},
   "outputs": [],
   "source": [
    "\n",
    "# Create figure and axes\n",
    "plt.figure(figsize=(20,20))\n",
    "\n",
    "# Display the image\n",
    "plt.imshow(image)\n",
    "\n",
    "# Plot markers from the DataFrame\n",
    "plt.scatter(manual_labels_df['X'], manual_labels_df['Y'], c=manual_labels_df['Counter'], cmap=plt.cm.bwr.reversed(), marker='o')\n",
    "\n",
    "plt.show()"
   ]
  },
  {
   "cell_type": "code",
   "execution_count": null,
   "metadata": {},
   "outputs": [],
   "source": [
    "\n",
    "from src.filepath_util import get_rel_filepaths_from_subfolders\n",
    "import torch\n",
    "from segment_anything import SamPredictor, sam_model_registry\n",
    "\n",
    "\n",
    "DEVICE = \"cuda\"\n",
    "RESNET_BATCH_SIZE = 64\n",
    "\n",
    "SAM_CHECKPOINTS_FOLDER = os.path.normpath(\"./model/sam/\")\n",
    "SAM_CHECKPOINT_FILEPATHS = get_rel_filepaths_from_subfolders(\n",
    "    folder_path=SAM_CHECKPOINTS_FOLDER, extension=\"pth\"\n",
    ")\n",
    "\n",
    "def sam_model_version(sam_checkpoint_filepath):\n",
    "    if \"sam_vit_b\" in sam_checkpoint_filepath:\n",
    "        return \"vit_b\"\n",
    "    if \"sam_vit_h\" in sam_checkpoint_filepath:\n",
    "        return \"vit_h\"\n",
    "    if \"sam_vit_l\" in sam_checkpoint_filepath:\n",
    "        return \"vit_l\"\n",
    "\n",
    "    return None\n",
    "\n",
    "if DEVICE == \"cuda\":\n",
    "    torch.cuda.empty_cache()\n",
    "\n",
    "sam_checkpoint_filepath = SAM_CHECKPOINT_FILEPATHS[0]\n",
    "sam = sam_model_registry[sam_model_version(sam_checkpoint_filepath)](\n",
    "    checkpoint=sam_checkpoint_filepath\n",
    ")\n",
    "sam.to(device=DEVICE)\n",
    "\n",
    "predictor = SamPredictor(sam)\n",
    "# predictor.set_image(read_image(image_filepath))\n",
    "predictor.set_image(image)"
   ]
  },
  {
   "cell_type": "code",
   "execution_count": null,
   "metadata": {},
   "outputs": [],
   "source": [
    "x_list = manual_labels_df['X'].tolist()\n",
    "y_list = manual_labels_df['Y'].tolist()\n",
    "labels = manual_labels_df['Counter'].tolist()\n",
    "\n",
    "masks = []\n",
    "\n",
    "for i, (x, y) in enumerate(zip(x_list, y_list)):\n",
    "    input_points = [[x, y]]\n",
    "    input_labels = [1]\n",
    "\n",
    "    for other_i, (other_x, other_y) in enumerate(zip(x_list, y_list)):\n",
    "        if other_i == i:\n",
    "            continue\n",
    "        # if abs(x - other_x) < 250 and abs(y - other_y) < 250:\n",
    "        #     input_points.append([other_x, other_y])\n",
    "        #     input_labels.append(0)\n",
    "\n",
    "    mask, _, _ = predictor.predict(\n",
    "        point_coords=np.array(input_points), point_labels=np.array(input_labels), multimask_output=True\n",
    "    )\n",
    "\n",
    "    masks.append(mask)\n"
   ]
  },
  {
   "cell_type": "code",
   "execution_count": null,
   "metadata": {},
   "outputs": [],
   "source": [
    "def show_mask(mask, ax, random_color=False):\n",
    "    if random_color:\n",
    "        color = np.concatenate([np.random.random(3), np.array([0.6])], axis=0)\n",
    "    else:\n",
    "        color = np.array([30/255, 144/255, 255/255, 0.6])\n",
    "    h, w = mask.shape[-2:]\n",
    "    mask_image = mask.reshape(h, w, 1) * color.reshape(1, 1, -1)\n",
    "    ax.imshow(mask_image)\n",
    "\n",
    "k = 15\n",
    "for i in range(3):\n",
    "    plt.figure(figsize=(10,10))\n",
    "    plt.imshow(image)\n",
    "    # plt.imshow(image)\n",
    "    show_mask(masks[k][i], plt.gca(), random_color=True)\n",
    "    plt.scatter(manual_labels_df.iloc[k]['X'], manual_labels_df.iloc[k]['Y'], c=manual_labels_df.iloc[k]['Counter'], cmap=plt.cm.bwr.reversed(), marker='o')\n",
    "    plt.axis('off')\n",
    "    plt.show()"
   ]
  },
  {
   "cell_type": "code",
   "execution_count": null,
   "metadata": {},
   "outputs": [],
   "source": []
  },
  {
   "cell_type": "code",
   "execution_count": null,
   "metadata": {},
   "outputs": [],
   "source": []
  }
 ],
 "metadata": {
  "kernelspec": {
   "display_name": ".venv",
   "language": "python",
   "name": "python3"
  },
  "language_info": {
   "codemirror_mode": {
    "name": "ipython",
    "version": 3
   },
   "file_extension": ".py",
   "mimetype": "text/x-python",
   "name": "python",
   "nbconvert_exporter": "python",
   "pygments_lexer": "ipython3",
   "version": "3.10.12"
  }
 },
 "nbformat": 4,
 "nbformat_minor": 2
}
